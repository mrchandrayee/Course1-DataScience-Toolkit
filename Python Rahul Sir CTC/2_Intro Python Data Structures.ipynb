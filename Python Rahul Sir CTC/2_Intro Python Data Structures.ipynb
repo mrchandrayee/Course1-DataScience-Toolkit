{
 "cells": [
  {
   "cell_type": "markdown",
   "metadata": {},
   "source": [
    "# Notebook 2 - Python Data Structures"
   ]
  },
  {
   "cell_type": "markdown",
   "metadata": {},
   "source": [
    "# Tuples "
   ]
  },
  {
   "cell_type": "code",
   "execution_count": 1,
   "metadata": {},
   "outputs": [
    {
     "data": {
      "text/plain": [
       "('Python', 1, True, False, 2.2)"
      ]
     },
     "execution_count": 1,
     "metadata": {},
     "output_type": "execute_result"
    }
   ],
   "source": [
    "my_tuple = (\"Python\",1, True, False, 2.2 )\n",
    "my_tuple"
   ]
  },
  {
   "cell_type": "code",
   "execution_count": 2,
   "metadata": {},
   "outputs": [
    {
     "data": {
      "text/plain": [
       "tuple"
      ]
     },
     "execution_count": 2,
     "metadata": {},
     "output_type": "execute_result"
    }
   ],
   "source": [
    "type(my_tuple)"
   ]
  },
  {
   "cell_type": "code",
   "execution_count": 3,
   "metadata": {},
   "outputs": [
    {
     "data": {
      "text/plain": [
       "5"
      ]
     },
     "execution_count": 3,
     "metadata": {},
     "output_type": "execute_result"
    }
   ],
   "source": [
    "len(my_tuple)"
   ]
  },
  {
   "cell_type": "code",
   "execution_count": 4,
   "metadata": {},
   "outputs": [
    {
     "name": "stdout",
     "output_type": "stream",
     "text": [
      "Python\n",
      "1\n",
      "2.2\n"
     ]
    }
   ],
   "source": [
    "print( my_tuple[0])\n",
    "print( my_tuple[1])\n",
    "print( my_tuple[4])"
   ]
  },
  {
   "cell_type": "code",
   "execution_count": 5,
   "metadata": {},
   "outputs": [
    {
     "name": "stdout",
     "output_type": "stream",
     "text": [
      "<class 'str'>\n",
      "<class 'int'>\n",
      "<class 'bool'>\n",
      "<class 'bool'>\n",
      "<class 'float'>\n"
     ]
    }
   ],
   "source": [
    "print( type(my_tuple[0]))\n",
    "print( type(my_tuple[1]))\n",
    "print( type(my_tuple[2]))\n",
    "print( type(my_tuple[3]))\n",
    "print( type(my_tuple[4]))"
   ]
  },
  {
   "cell_type": "code",
   "execution_count": 6,
   "metadata": {},
   "outputs": [
    {
     "name": "stdout",
     "output_type": "stream",
     "text": [
      "2.2\n",
      "False\n",
      "True\n"
     ]
    }
   ],
   "source": [
    "print( my_tuple[-1])\n",
    "print( my_tuple[-2])\n",
    "print( my_tuple[-3])"
   ]
  },
  {
   "cell_type": "code",
   "execution_count": 7,
   "metadata": {},
   "outputs": [
    {
     "ename": "TypeError",
     "evalue": "'tuple' object does not support item assignment",
     "output_type": "error",
     "traceback": [
      "\u001b[1;31m---------------------------------------------------------------------------\u001b[0m",
      "\u001b[1;31mTypeError\u001b[0m                                 Traceback (most recent call last)",
      "\u001b[1;32m~\\AppData\\Local\\Temp/ipykernel_8196/813827293.py\u001b[0m in \u001b[0;36m<module>\u001b[1;34m\u001b[0m\n\u001b[1;32m----> 1\u001b[1;33m \u001b[0mmy_tuple\u001b[0m\u001b[1;33m[\u001b[0m\u001b[1;36m2\u001b[0m\u001b[1;33m]\u001b[0m \u001b[1;33m=\u001b[0m \u001b[1;36m4\u001b[0m   \u001b[1;31m#Cant alter the tuple\u001b[0m\u001b[1;33m\u001b[0m\u001b[1;33m\u001b[0m\u001b[0m\n\u001b[0m",
      "\u001b[1;31mTypeError\u001b[0m: 'tuple' object does not support item assignment"
     ]
    }
   ],
   "source": [
    "my_tuple[2] = 4   #Cant alter the tuple"
   ]
  },
  {
   "cell_type": "code",
   "execution_count": 8,
   "metadata": {},
   "outputs": [
    {
     "data": {
      "text/plain": [
       "('Python', 1, True, False, 2.2, 'Anaconda', 120)"
      ]
     },
     "execution_count": 8,
     "metadata": {},
     "output_type": "execute_result"
    }
   ],
   "source": [
    "my_tuple2 = my_tuple + (\"Anaconda\", 120)\n",
    "my_tuple2"
   ]
  },
  {
   "cell_type": "code",
   "execution_count": 9,
   "metadata": {},
   "outputs": [
    {
     "data": {
      "text/plain": [
       "('Python', 1)"
      ]
     },
     "execution_count": 9,
     "metadata": {},
     "output_type": "execute_result"
    }
   ],
   "source": [
    "my_tuple2[0:2]"
   ]
  },
  {
   "cell_type": "code",
   "execution_count": 10,
   "metadata": {},
   "outputs": [
    {
     "data": {
      "text/plain": [
       "('Python', 1, True, False, 2.2, 'Anaconda', 120)"
      ]
     },
     "execution_count": 10,
     "metadata": {},
     "output_type": "execute_result"
    }
   ],
   "source": [
    "my_tuple2[0:]"
   ]
  },
  {
   "cell_type": "code",
   "execution_count": 11,
   "metadata": {},
   "outputs": [
    {
     "data": {
      "text/plain": [
       "('Python', 1, True)"
      ]
     },
     "execution_count": 11,
     "metadata": {},
     "output_type": "execute_result"
    }
   ],
   "source": [
    "my_tuple2[:3]"
   ]
  },
  {
   "cell_type": "code",
   "execution_count": 12,
   "metadata": {},
   "outputs": [],
   "source": [
    "del(my_tuple2)"
   ]
  },
  {
   "cell_type": "code",
   "execution_count": 13,
   "metadata": {},
   "outputs": [
    {
     "data": {
      "text/plain": [
       "(10, 8, 3, 2, 4, 0, 0, 3)"
      ]
     },
     "execution_count": 13,
     "metadata": {},
     "output_type": "execute_result"
    }
   ],
   "source": [
    "Scores = (10, 8 , 3, 2 , 4, 0 , 0, 3)\n",
    "Scores"
   ]
  },
  {
   "cell_type": "code",
   "execution_count": 14,
   "metadata": {},
   "outputs": [
    {
     "data": {
      "text/plain": [
       "tuple"
      ]
     },
     "execution_count": 14,
     "metadata": {},
     "output_type": "execute_result"
    }
   ],
   "source": [
    "type(Scores)"
   ]
  },
  {
   "cell_type": "code",
   "execution_count": 15,
   "metadata": {},
   "outputs": [
    {
     "data": {
      "text/plain": [
       "[10, 8, 4, 3, 3, 2, 0, 0]"
      ]
     },
     "execution_count": 15,
     "metadata": {},
     "output_type": "execute_result"
    }
   ],
   "source": [
    "sorted_Scores = sorted(Scores, reverse=True)\n",
    "sorted_Scores"
   ]
  },
  {
   "cell_type": "code",
   "execution_count": 16,
   "metadata": {},
   "outputs": [],
   "source": [
    "del(Scores)"
   ]
  },
  {
   "cell_type": "code",
   "execution_count": 17,
   "metadata": {},
   "outputs": [
    {
     "ename": "NameError",
     "evalue": "name 'Scores' is not defined",
     "output_type": "error",
     "traceback": [
      "\u001b[1;31m---------------------------------------------------------------------------\u001b[0m",
      "\u001b[1;31mNameError\u001b[0m                                 Traceback (most recent call last)",
      "\u001b[1;32m~\\AppData\\Local\\Temp/ipykernel_8196/3779057899.py\u001b[0m in \u001b[0;36m<module>\u001b[1;34m\u001b[0m\n\u001b[1;32m----> 1\u001b[1;33m \u001b[0mScores\u001b[0m   \u001b[1;31m# error as its no more available\u001b[0m\u001b[1;33m\u001b[0m\u001b[1;33m\u001b[0m\u001b[0m\n\u001b[0m",
      "\u001b[1;31mNameError\u001b[0m: name 'Scores' is not defined"
     ]
    }
   ],
   "source": [
    "Scores   # error as its no more available"
   ]
  },
  {
   "cell_type": "markdown",
   "metadata": {
    "collapsed": true
   },
   "source": [
    "# Lists"
   ]
  },
  {
   "cell_type": "code",
   "execution_count": 18,
   "metadata": {},
   "outputs": [
    {
     "data": {
      "text/plain": [
       "['Virat', 9.34, 1982, True]"
      ]
     },
     "execution_count": 18,
     "metadata": {},
     "output_type": "execute_result"
    }
   ],
   "source": [
    "my_list = [\"Virat\", 9.34, 1982, True]\n",
    "my_list"
   ]
  },
  {
   "cell_type": "code",
   "execution_count": 19,
   "metadata": {},
   "outputs": [
    {
     "data": {
      "text/plain": [
       "list"
      ]
     },
     "execution_count": 19,
     "metadata": {},
     "output_type": "execute_result"
    }
   ],
   "source": [
    "type(my_list)"
   ]
  },
  {
   "cell_type": "code",
   "execution_count": 20,
   "metadata": {},
   "outputs": [],
   "source": [
    "my_list.append(\"Ram\")"
   ]
  },
  {
   "cell_type": "code",
   "execution_count": 21,
   "metadata": {},
   "outputs": [
    {
     "data": {
      "text/plain": [
       "['Virat', 9.34, 1982, True, 'Ram']"
      ]
     },
     "execution_count": 21,
     "metadata": {},
     "output_type": "execute_result"
    }
   ],
   "source": [
    "my_list #Append can use in lists"
   ]
  },
  {
   "cell_type": "code",
   "execution_count": 22,
   "metadata": {},
   "outputs": [
    {
     "name": "stdout",
     "output_type": "stream",
     "text": [
      "Virat      Virat\n",
      "9.34      9.34\n",
      "1982      1982\n",
      "True      True\n",
      "Ram      Ram\n"
     ]
    }
   ],
   "source": [
    "print(my_list[0] , \"    \" , my_list[-5])\n",
    "print(my_list[1] , \"    \" , my_list[-4])\n",
    "print(my_list[2] , \"    \" , my_list[-3])\n",
    "print(my_list[3] , \"    \" , my_list[-2])\n",
    "print(my_list[4] , \"    \" , my_list[-1])"
   ]
  },
  {
   "cell_type": "code",
   "execution_count": 23,
   "metadata": {},
   "outputs": [
    {
     "data": {
      "text/plain": [
       "['Virat', 9.34, 1982, True, 'Ram']"
      ]
     },
     "execution_count": 23,
     "metadata": {},
     "output_type": "execute_result"
    }
   ],
   "source": [
    "my_list"
   ]
  },
  {
   "cell_type": "code",
   "execution_count": 24,
   "metadata": {},
   "outputs": [
    {
     "data": {
      "text/plain": [
       "['Virat',\n",
       " 9.34,\n",
       " 1982,\n",
       " True,\n",
       " 23,\n",
       " (1, 3, 9),\n",
       " ['Sachin', 982, True],\n",
       " [34, 23],\n",
       " ('a', 'v')]"
      ]
     },
     "execution_count": 24,
     "metadata": {},
     "output_type": "execute_result"
    }
   ],
   "source": [
    "num1 = 23 \n",
    "tuple1 = (1, 3, 9)\n",
    "list1 = [\"Sachin\", 982, True]\n",
    "\n",
    "mixed_list = [\"Virat\", 9.34, 1982, True, num1, tuple1, list1, [ 34, 23], ('a', 'v')]\n",
    "mixed_list #List of lists"
   ]
  },
  {
   "cell_type": "code",
   "execution_count": 25,
   "metadata": {},
   "outputs": [
    {
     "data": {
      "text/plain": [
       "['Virat',\n",
       " 9.34,\n",
       " 1982,\n",
       " True,\n",
       " 23,\n",
       " (1, 3, 9),\n",
       " ['Sachin', 982, True],\n",
       " [34, 23],\n",
       " ('a', 'v')]"
      ]
     },
     "execution_count": 25,
     "metadata": {},
     "output_type": "execute_result"
    }
   ],
   "source": [
    "mixed_list[:]"
   ]
  },
  {
   "cell_type": "code",
   "execution_count": 26,
   "metadata": {},
   "outputs": [
    {
     "data": {
      "text/plain": [
       "[9.34, 1982, True, 23, (1, 3, 9), ['Sachin', 982, True], [34, 23], ('a', 'v')]"
      ]
     },
     "execution_count": 26,
     "metadata": {},
     "output_type": "execute_result"
    }
   ],
   "source": [
    "mixed_list[1:]"
   ]
  },
  {
   "cell_type": "code",
   "execution_count": 27,
   "metadata": {},
   "outputs": [
    {
     "data": {
      "text/plain": [
       "['Virat', 9.34]"
      ]
     },
     "execution_count": 27,
     "metadata": {},
     "output_type": "execute_result"
    }
   ],
   "source": [
    "mixed_list[:2]"
   ]
  },
  {
   "cell_type": "code",
   "execution_count": 28,
   "metadata": {},
   "outputs": [
    {
     "data": {
      "text/plain": [
       "['Virat', 9.34, 1982, True, 23, (1, 3, 9), ['Sachin', 982, True], [34, 23]]"
      ]
     },
     "execution_count": 28,
     "metadata": {},
     "output_type": "execute_result"
    }
   ],
   "source": [
    "mixed_list[:-1]"
   ]
  },
  {
   "cell_type": "code",
   "execution_count": 29,
   "metadata": {},
   "outputs": [],
   "source": [
    "my_list = [\"Virat\", 9.34, 1982, True]\n",
    "my_list.append([\"Ram\",1,2,3,4,5])"
   ]
  },
  {
   "cell_type": "code",
   "execution_count": 30,
   "metadata": {},
   "outputs": [
    {
     "data": {
      "text/plain": [
       "['Virat', 9.34, 1982, True, ['Ram', 1, 2, 3, 4, 5]]"
      ]
     },
     "execution_count": 30,
     "metadata": {},
     "output_type": "execute_result"
    }
   ],
   "source": [
    "my_list"
   ]
  },
  {
   "cell_type": "code",
   "execution_count": 31,
   "metadata": {},
   "outputs": [
    {
     "data": {
      "text/plain": [
       "['Virat', 9.34, 1982, True, 'new_item', 100, 1, 2, 0.1]"
      ]
     },
     "execution_count": 31,
     "metadata": {},
     "output_type": "execute_result"
    }
   ],
   "source": [
    "my_list = [\"Virat\", 9.34, 1982, True]\n",
    "\n",
    "my_list.extend(['new_item',100,1,2,0.1])\n",
    "my_list\n"
   ]
  },
  {
   "cell_type": "code",
   "execution_count": 32,
   "metadata": {},
   "outputs": [
    {
     "data": {
      "text/plain": [
       "[9.34, 1982, True]"
      ]
     },
     "execution_count": 32,
     "metadata": {},
     "output_type": "execute_result"
    }
   ],
   "source": [
    "my_list = [\"Virat\", 9.34, 1982, True]\n",
    "\n",
    "my_list.remove(\"Virat\")\n",
    "my_list"
   ]
  },
  {
   "cell_type": "code",
   "execution_count": 33,
   "metadata": {},
   "outputs": [
    {
     "name": "stdout",
     "output_type": "stream",
     "text": [
      "Original :  ['Virat', 9.34, 1982, True]\n",
      "After modification:  ['Virat', 34.3, 1982, True]\n"
     ]
    }
   ],
   "source": [
    "my_list = [\"Virat\", 9.34, 1982, True]\n",
    "print(\"Original : \" , my_list)\n",
    "\n",
    "my_list[1] = 34.3\n",
    "print(\"After modification: \" , my_list)  #lists can be altered"
   ]
  },
  {
   "cell_type": "code",
   "execution_count": 34,
   "metadata": {},
   "outputs": [
    {
     "name": "stdout",
     "output_type": "stream",
     "text": [
      "Before :  ['Virat', 9.34, 1982, True]\n",
      "After :  ['Virat', 9.34, True]\n"
     ]
    }
   ],
   "source": [
    "my_list = [\"Virat\", 9.34, 1982, True]\n",
    "print(\"Before : \" , my_list)\n",
    "\n",
    "del(my_list[2])\n",
    "print(\"After : \" , my_list)"
   ]
  },
  {
   "cell_type": "code",
   "execution_count": 35,
   "metadata": {},
   "outputs": [
    {
     "data": {
      "text/plain": [
       "['This', 'string', 'needs', 'to', 'be', 'splitted']"
      ]
     },
     "execution_count": 35,
     "metadata": {},
     "output_type": "execute_result"
    }
   ],
   "source": [
    "'This string needs to be splitted'.split()"
   ]
  },
  {
   "cell_type": "code",
   "execution_count": 36,
   "metadata": {},
   "outputs": [
    {
     "name": "stdout",
     "output_type": "stream",
     "text": [
      "['This', 'string', 'needs', 'to', 'be', 'splitted']\n",
      "This\n",
      "string\n",
      "needs\n",
      "to\n",
      "be\n",
      "splitted\n",
      "<class 'list'>\n",
      "6\n"
     ]
    }
   ],
   "source": [
    "splitted_str = 'This string needs to be splitted'.split()\n",
    "print(splitted_str)\n",
    "\n",
    "print(splitted_str[0])\n",
    "print(splitted_str[1])\n",
    "print(splitted_str[2])\n",
    "print(splitted_str[3])\n",
    "print(splitted_str[4])\n",
    "print(splitted_str[5])\n",
    "\n",
    "print(type(splitted_str))\n",
    "\n",
    "print(len(splitted_str))"
   ]
  },
  {
   "cell_type": "code",
   "execution_count": 37,
   "metadata": {},
   "outputs": [
    {
     "name": "stdout",
     "output_type": "stream",
     "text": [
      "['This string', ' needs to be splitted']\n",
      "This string\n",
      " needs to be splitted\n",
      "<class 'list'>\n",
      "2\n"
     ]
    }
   ],
   "source": [
    "splitted_str = 'This string, needs to be splitted'.split(',')\n",
    "print(splitted_str)\n",
    "\n",
    "print(splitted_str[0])\n",
    "print(splitted_str[1])\n",
    "\n",
    "print(type(splitted_str))\n",
    "\n",
    "print(len(splitted_str))"
   ]
  },
  {
   "cell_type": "code",
   "execution_count": 38,
   "metadata": {},
   "outputs": [
    {
     "name": "stdout",
     "output_type": "stream",
     "text": [
      "[1, 3, 5, 7, -1, 2]\n",
      "[7, 5, 3, 2, 1, -1]\n",
      "[-1, 1, 2, 3, 5, 7]\n"
     ]
    }
   ],
   "source": [
    "list5 = [1, 3, 5, 7 , -1 , 2]\n",
    "print(list5)\n",
    "\n",
    "list5.sort(reverse=True)\n",
    "print(list5)\n",
    "\n",
    "list5.sort()\n",
    "print(list5)"
   ]
  },
  {
   "cell_type": "code",
   "execution_count": 39,
   "metadata": {},
   "outputs": [
    {
     "name": "stdout",
     "output_type": "stream",
     "text": [
      "[1, 2, 3, 4, 5, 6, 7, 8, 9]\n",
      "[1, 3, 5, 7, 9]\n"
     ]
    }
   ],
   "source": [
    "list6 = list(range(1, 10, 1))\n",
    "print(list6)\n",
    "\n",
    "list6 = list(range(1, 10, 2))\n",
    "print(list6)"
   ]
  },
  {
   "cell_type": "code",
   "execution_count": 40,
   "metadata": {},
   "outputs": [
    {
     "data": {
      "text/plain": [
       "list"
      ]
     },
     "execution_count": 40,
     "metadata": {},
     "output_type": "execute_result"
    }
   ],
   "source": [
    "type(list(range(1, 10, 1)))"
   ]
  },
  {
   "cell_type": "code",
   "execution_count": 41,
   "metadata": {},
   "outputs": [
    {
     "name": "stdout",
     "output_type": "stream",
     "text": [
      "[1, 3, 5, 7, -1, 2]\n",
      "[2, -1, 7, 5, 3, 1]\n"
     ]
    }
   ],
   "source": [
    "list7 = [1, 3, 5, 7 , -1 , 2]\n",
    "print(list7)\n",
    "\n",
    "list7.reverse()\n",
    "print(list7)"
   ]
  },
  {
   "cell_type": "code",
   "execution_count": 42,
   "metadata": {},
   "outputs": [
    {
     "name": "stdout",
     "output_type": "stream",
     "text": [
      "(1, 3, 5, 7, -1, 2)\n",
      "(1, 3)\n",
      "[1, 3]\n",
      "(1, 3)\n"
     ]
    }
   ],
   "source": [
    "my_tuple = (1, 3, 5, 7 , -1 , 2)\n",
    "print(my_tuple)\n",
    "\n",
    "few_elements = my_tuple[:2]\n",
    "print(few_elements)\n",
    "\n",
    "list_from_tupple = list(few_elements)\n",
    "print(list_from_tupple) #converting tuple to list\n",
    "\n",
    "tuple_from_list = tuple(list_from_tupple)\n",
    "print(tuple_from_list) #converting list to tuple\n"
   ]
  },
  {
   "cell_type": "markdown",
   "metadata": {
    "collapsed": true
   },
   "source": [
    "# Dictionaries"
   ]
  },
  {
   "cell_type": "code",
   "execution_count": 43,
   "metadata": {},
   "outputs": [
    {
     "name": "stdout",
     "output_type": "stream",
     "text": [
      "{'name': 'pravin', 'age': 22, 'marks': [30, 23, 13], 'assign_grades': ('A', 'B', 'A')}\n",
      "<class 'dict'>\n"
     ]
    }
   ],
   "source": [
    "my_dict = {\"name\":\"pravin\", \"age\":22, \"marks\":[30, 23, 13], \"assign_grades\":('A','B','A')}\n",
    "print(my_dict)\n",
    "print(type(my_dict))  #Key value format"
   ]
  },
  {
   "cell_type": "code",
   "execution_count": 44,
   "metadata": {},
   "outputs": [
    {
     "data": {
      "text/plain": [
       "4"
      ]
     },
     "execution_count": 44,
     "metadata": {},
     "output_type": "execute_result"
    }
   ],
   "source": [
    "len(my_dict)"
   ]
  },
  {
   "cell_type": "code",
   "execution_count": 45,
   "metadata": {},
   "outputs": [
    {
     "name": "stdout",
     "output_type": "stream",
     "text": [
      "pravin\n",
      "22\n"
     ]
    }
   ],
   "source": [
    "print(my_dict[\"name\"])\n",
    "print(my_dict[\"age\"])"
   ]
  },
  {
   "cell_type": "code",
   "execution_count": 46,
   "metadata": {},
   "outputs": [
    {
     "name": "stdout",
     "output_type": "stream",
     "text": [
      "pravin\n",
      "22\n",
      "[30, 23, 13]\n",
      "('A', 'B', 'A')\n"
     ]
    }
   ],
   "source": [
    "print(my_dict[\"name\"])\n",
    "print(my_dict[\"age\"])\n",
    "print(my_dict[\"marks\"])\n",
    "print(my_dict[\"assign_grades\"])"
   ]
  },
  {
   "cell_type": "code",
   "execution_count": 47,
   "metadata": {},
   "outputs": [
    {
     "data": {
      "text/plain": [
       "22"
      ]
     },
     "execution_count": 47,
     "metadata": {},
     "output_type": "execute_result"
    }
   ],
   "source": [
    "my_age = my_dict.get(\"age\")\n",
    "my_age #Using get function to get the age"
   ]
  },
  {
   "cell_type": "code",
   "execution_count": 48,
   "metadata": {},
   "outputs": [
    {
     "data": {
      "text/plain": [
       "{'name': 'pawar',\n",
       " 'age': 22,\n",
       " 'marks': [30, 23, 13],\n",
       " 'assign_grades': ('A', 'B', 'A')}"
      ]
     },
     "execution_count": 48,
     "metadata": {},
     "output_type": "execute_result"
    }
   ],
   "source": [
    "my_dict[\"name\"] = \"pawar\"\n",
    "my_dict #Altering dictionary element"
   ]
  },
  {
   "cell_type": "code",
   "execution_count": 49,
   "metadata": {},
   "outputs": [
    {
     "data": {
      "text/plain": [
       "{'name': 'pawar',\n",
       " 'age': 22,\n",
       " 'marks': [30, 23, 13],\n",
       " 'assign_grades': ('A', 'B', 'A'),\n",
       " 'Gender': 'Male'}"
      ]
     },
     "execution_count": 49,
     "metadata": {},
     "output_type": "execute_result"
    }
   ],
   "source": [
    "my_dict[\"Gender\"] = \"Male\"\n",
    "my_dict #Adding new eliments to dictionary"
   ]
  },
  {
   "cell_type": "code",
   "execution_count": 50,
   "metadata": {},
   "outputs": [
    {
     "name": "stdout",
     "output_type": "stream",
     "text": [
      "dict_keys(['name', 'age', 'marks', 'assign_grades', 'Gender'])\n"
     ]
    }
   ],
   "source": [
    "key_list = my_dict.keys()\n",
    "print(key_list)"
   ]
  },
  {
   "cell_type": "code",
   "execution_count": 51,
   "metadata": {},
   "outputs": [
    {
     "data": {
      "text/plain": [
       "dict_values(['pawar', 22, [30, 23, 13], ('A', 'B', 'A'), 'Male'])"
      ]
     },
     "execution_count": 51,
     "metadata": {},
     "output_type": "execute_result"
    }
   ],
   "source": [
    "dict_values = my_dict.values()\n",
    "dict_values"
   ]
  },
  {
   "cell_type": "code",
   "execution_count": 52,
   "metadata": {},
   "outputs": [
    {
     "data": {
      "text/plain": [
       "dict_items([('name', 'pawar'), ('age', 22), ('marks', [30, 23, 13]), ('assign_grades', ('A', 'B', 'A')), ('Gender', 'Male')])"
      ]
     },
     "execution_count": 52,
     "metadata": {},
     "output_type": "execute_result"
    }
   ],
   "source": [
    "dict_items = my_dict.items()\n",
    "dict_items"
   ]
  },
  {
   "cell_type": "code",
   "execution_count": 53,
   "metadata": {},
   "outputs": [
    {
     "name": "stdout",
     "output_type": "stream",
     "text": [
      "{'age': 22, 'marks': [30, 23, 13], 'assign_grades': ('A', 'B', 'A'), 'Gender': 'Male'}\n"
     ]
    }
   ],
   "source": [
    "del(my_dict['name'])\n",
    "print(my_dict)"
   ]
  },
  {
   "cell_type": "code",
   "execution_count": 54,
   "metadata": {},
   "outputs": [
    {
     "data": {
      "text/plain": [
       "('Gender', 'Male')"
      ]
     },
     "execution_count": 54,
     "metadata": {},
     "output_type": "execute_result"
    }
   ],
   "source": [
    "my_dict.popitem()"
   ]
  },
  {
   "cell_type": "code",
   "execution_count": 55,
   "metadata": {},
   "outputs": [
    {
     "data": {
      "text/plain": [
       "{'age': 22, 'marks': [30, 23, 13], 'assign_grades': ('A', 'B', 'A')}"
      ]
     },
     "execution_count": 55,
     "metadata": {},
     "output_type": "execute_result"
    }
   ],
   "source": [
    "my_dict"
   ]
  },
  {
   "cell_type": "code",
   "execution_count": 56,
   "metadata": {},
   "outputs": [
    {
     "name": "stdout",
     "output_type": "stream",
     "text": [
      "{1: ['Emp A', 34], 2: ['Emp B', 35], 3: ['Emp C', 36]}\n"
     ]
    }
   ],
   "source": [
    "emp_data = { 1:['Emp A', 34] , 2:['Emp B', 35], 3:['Emp C', 36]}\n",
    "\n",
    "print(emp_data)"
   ]
  },
  {
   "cell_type": "code",
   "execution_count": 57,
   "metadata": {},
   "outputs": [
    {
     "data": {
      "text/plain": [
       "['Emp B', 35]"
      ]
     },
     "execution_count": 57,
     "metadata": {},
     "output_type": "execute_result"
    }
   ],
   "source": [
    "emp_data[2]"
   ]
  },
  {
   "cell_type": "code",
   "execution_count": 58,
   "metadata": {},
   "outputs": [
    {
     "name": "stdout",
     "output_type": "stream",
     "text": [
      "{1: ['Emp A', 34], 2: ['Emp F', 45], 3: ['Emp C', 36]}\n"
     ]
    }
   ],
   "source": [
    "emp_data[2] = ['Emp F', 45]\n",
    "print(emp_data)"
   ]
  },
  {
   "cell_type": "code",
   "execution_count": 59,
   "metadata": {},
   "outputs": [
    {
     "name": "stdout",
     "output_type": "stream",
     "text": [
      "{1: ['Emp A', 34], 2: ['Emp F', 45], 3: ['Emp C', 36], 4: ['Emp D', 45]}\n"
     ]
    }
   ],
   "source": [
    "emp_data[4] = ['Emp D', 45]\n",
    "print(emp_data)"
   ]
  },
  {
   "cell_type": "code",
   "execution_count": 60,
   "metadata": {},
   "outputs": [
    {
     "name": "stdout",
     "output_type": "stream",
     "text": [
      "{1: ['Emp A', 34], 3: ['Emp C', 36], 4: ['Emp D', 45]}\n"
     ]
    }
   ],
   "source": [
    "emp_data.pop(2)\n",
    "print(emp_data)"
   ]
  },
  {
   "cell_type": "markdown",
   "metadata": {
    "collapsed": true
   },
   "source": [
    "# Sets"
   ]
  },
  {
   "cell_type": "code",
   "execution_count": 61,
   "metadata": {},
   "outputs": [
    {
     "name": "stdout",
     "output_type": "stream",
     "text": [
      "{'Mumbai', 'Pune', 'pune', 'Bangalore', 'Delhi'}\n",
      "<class 'set'>\n"
     ]
    }
   ],
   "source": [
    "city_set = {\"Pune\", \"Mumbai\", \"Pune\", \"Mumbai\", \"Bangalore\", \"Delhi\", \"pune\"}\n",
    "print(city_set)\n",
    "print(type(city_set)) #no key value #Sets are unordered collection of objects"
   ]
  },
  {
   "cell_type": "code",
   "execution_count": 62,
   "metadata": {},
   "outputs": [
    {
     "name": "stdout",
     "output_type": "stream",
     "text": [
      "['Pune', 'Mumbai', 'Pune', 'Mumbai', 'Bangalore', 'Delhi']\n"
     ]
    },
    {
     "data": {
      "text/plain": [
       "{'Bangalore', 'Delhi', 'Mumbai', 'Pune'}"
      ]
     },
     "execution_count": 62,
     "metadata": {},
     "output_type": "execute_result"
    }
   ],
   "source": [
    "city_list1 = [\"Pune\", \"Mumbai\", \"Pune\", \"Mumbai\", \"Bangalore\", \"Delhi\"]\n",
    "print(city_list1)\n",
    "city_set = set(city_list1)\n",
    "city_set #list to set"
   ]
  },
  {
   "cell_type": "code",
   "execution_count": 63,
   "metadata": {},
   "outputs": [
    {
     "data": {
      "text/plain": [
       "{'India', 'US'}"
      ]
     },
     "execution_count": 63,
     "metadata": {},
     "output_type": "execute_result"
    }
   ],
   "source": [
    "country_set = {\"India\", \"US\", \"US\", \"India\"}\n",
    "country_set"
   ]
  },
  {
   "cell_type": "code",
   "execution_count": 64,
   "metadata": {},
   "outputs": [
    {
     "data": {
      "text/plain": [
       "{'India', 'US', 'uk'}"
      ]
     },
     "execution_count": 64,
     "metadata": {},
     "output_type": "execute_result"
    }
   ],
   "source": [
    "country_set.add(\"uk\")\n",
    "country_set"
   ]
  },
  {
   "cell_type": "code",
   "execution_count": 65,
   "metadata": {},
   "outputs": [
    {
     "data": {
      "text/plain": [
       "{'India', 'US'}"
      ]
     },
     "execution_count": 65,
     "metadata": {},
     "output_type": "execute_result"
    }
   ],
   "source": [
    "country_set.remove(\"uk\")\n",
    "country_set"
   ]
  },
  {
   "cell_type": "code",
   "execution_count": 66,
   "metadata": {},
   "outputs": [],
   "source": [
    "maharashtra_cities = {\"Pune\", \"Mumbai\", \"Nagpur\"}\n",
    "goa_cities = {\"Panjim\", \"Vasco\", \"Madgaon\"}\n",
    "western_region_cities = {\"Panjim\", \"Vasco\", \"Pune\", \"Mumbai\", \"Nagpur\"}"
   ]
  },
  {
   "cell_type": "code",
   "execution_count": 67,
   "metadata": {},
   "outputs": [
    {
     "data": {
      "text/plain": [
       "{'Mumbai', 'Nagpur', 'Pune'}"
      ]
     },
     "execution_count": 67,
     "metadata": {},
     "output_type": "execute_result"
    }
   ],
   "source": [
    "common_cities = maharashtra_cities & western_region_cities\n",
    "common_cities"
   ]
  },
  {
   "cell_type": "code",
   "execution_count": 68,
   "metadata": {},
   "outputs": [
    {
     "name": "stdout",
     "output_type": "stream",
     "text": [
      "{'Pune', 'Nagpur', 'Mumbai'}\n"
     ]
    }
   ],
   "source": [
    "print(maharashtra_cities.intersection(western_region_cities))"
   ]
  },
  {
   "cell_type": "code",
   "execution_count": 69,
   "metadata": {},
   "outputs": [
    {
     "data": {
      "text/plain": [
       "{'Madgaon', 'Mumbai', 'Nagpur', 'Panjim', 'Pune', 'Vasco'}"
      ]
     },
     "execution_count": 69,
     "metadata": {},
     "output_type": "execute_result"
    }
   ],
   "source": [
    "all_cities = maharashtra_cities | western_region_cities | goa_cities\n",
    "all_cities"
   ]
  },
  {
   "cell_type": "code",
   "execution_count": 70,
   "metadata": {},
   "outputs": [
    {
     "name": "stdout",
     "output_type": "stream",
     "text": [
      "{'Nagpur', 'Madgaon', 'Vasco', 'Mumbai', 'Pune', 'Panjim'}\n"
     ]
    }
   ],
   "source": [
    "print((maharashtra_cities.union(western_region_cities)).union(goa_cities))"
   ]
  },
  {
   "cell_type": "code",
   "execution_count": 71,
   "metadata": {},
   "outputs": [
    {
     "data": {
      "text/plain": [
       "{'Panjim', 'Vasco'}"
      ]
     },
     "execution_count": 71,
     "metadata": {},
     "output_type": "execute_result"
    }
   ],
   "source": [
    "western_region_cities.difference(maharashtra_cities) "
   ]
  },
  {
   "cell_type": "code",
   "execution_count": 72,
   "metadata": {},
   "outputs": [
    {
     "data": {
      "text/plain": [
       "set()"
      ]
     },
     "execution_count": 72,
     "metadata": {},
     "output_type": "execute_result"
    }
   ],
   "source": [
    "maharashtra_cities.difference(western_region_cities)"
   ]
  },
  {
   "cell_type": "code",
   "execution_count": 73,
   "metadata": {},
   "outputs": [
    {
     "data": {
      "text/plain": [
       "{'Madgaon'}"
      ]
     },
     "execution_count": 73,
     "metadata": {},
     "output_type": "execute_result"
    }
   ],
   "source": [
    "goa_cities.difference(western_region_cities) "
   ]
  },
  {
   "cell_type": "code",
   "execution_count": 74,
   "metadata": {},
   "outputs": [
    {
     "data": {
      "text/plain": [
       "set()"
      ]
     },
     "execution_count": 74,
     "metadata": {},
     "output_type": "execute_result"
    }
   ],
   "source": [
    "maharashtra_cities.difference(western_region_cities) #all are exist in western region then use symmetric difference"
   ]
  },
  {
   "cell_type": "code",
   "execution_count": 75,
   "metadata": {},
   "outputs": [
    {
     "data": {
      "text/plain": [
       "{'Panjim', 'Vasco'}"
      ]
     },
     "execution_count": 75,
     "metadata": {},
     "output_type": "execute_result"
    }
   ],
   "source": [
    "maharashtra_cities.symmetric_difference(western_region_cities)"
   ]
  },
  {
   "cell_type": "code",
   "execution_count": 76,
   "metadata": {},
   "outputs": [
    {
     "name": "stdout",
     "output_type": "stream",
     "text": [
      "[1, 2, 3, 2, 3, 4]\n",
      "{1, 2, 3, 4}\n"
     ]
    }
   ],
   "source": [
    "duplicate_items_list = [1, 2, 3, 2, 3, 4]\n",
    "print(duplicate_items_list)\n",
    "\n",
    "uniq_set = set(duplicate_items_list)\n",
    "print(uniq_set)"
   ]
  },
  {
   "cell_type": "code",
   "execution_count": 77,
   "metadata": {},
   "outputs": [
    {
     "name": "stdout",
     "output_type": "stream",
     "text": [
      "{'d', 'e', 'c', 'a'}\n",
      "['d', 'e', 'c', 'a']\n"
     ]
    }
   ],
   "source": [
    "grade_set = { 'a', 'c', 'd', 'e'}\n",
    "print(grade_set)\n",
    "\n",
    "grade_list = list(grade_set)\n",
    "print(grade_list) "
   ]
  },
  {
   "cell_type": "code",
   "execution_count": null,
   "metadata": {},
   "outputs": [],
   "source": []
  }
 ],
 "metadata": {
  "kernelspec": {
   "display_name": "Python 3 (ipykernel)",
   "language": "python",
   "name": "python3"
  },
  "language_info": {
   "codemirror_mode": {
    "name": "ipython",
    "version": 3
   },
   "file_extension": ".py",
   "mimetype": "text/x-python",
   "name": "python",
   "nbconvert_exporter": "python",
   "pygments_lexer": "ipython3",
   "version": "3.8.8"
  }
 },
 "nbformat": 4,
 "nbformat_minor": 2
}
